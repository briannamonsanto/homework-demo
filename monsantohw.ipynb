{
 "cells": [
  {
   "cell_type": "code",
   "execution_count": 7,
   "id": "5a4a4b72",
   "metadata": {},
   "outputs": [
    {
     "name": "stdout",
     "output_type": "stream",
     "text": [
      "x is smaller than y\n"
     ]
    }
   ],
   "source": [
    "## Question 1\n",
    "## write a conditional expression that compares x and y and \n",
    "## prints \"x is larger than y\" if x is larger than y or\n",
    "## prints \"x is smaller than y\" if x is smaller than y\n",
    "\n",
    "x = 10\n",
    "y = 15\n",
    "\n",
    "x>y\n",
    "\n",
    "if x >= y:\n",
    "    print(f\"x is larger than y\")\n",
    "else:\n",
    "    print(f\"x is smaller than y\")"
   ]
  },
  {
   "cell_type": "code",
   "execution_count": 45,
   "id": "3093c516",
   "metadata": {},
   "outputs": [
    {
     "name": "stdout",
     "output_type": "stream",
     "text": [
      "6\n",
      "11\n",
      "16\n",
      "21\n",
      "26\n"
     ]
    }
   ],
   "source": [
    "## Question 2\n",
    "## write a for loop that prints the values in this list but increases each number by 5\n",
    "numbers = [1, 6, 11, 16, 21]\n",
    "\n",
    "for each_number in numbers:\n",
    "    print(each_number+5) \n",
    "\n",
    "\n",
    "\n",
    "\n",
    "    "
   ]
  },
  {
   "cell_type": "code",
   "execution_count": 23,
   "id": "9d33a65a",
   "metadata": {},
   "outputs": [],
   "source": [
    "## Question 3\n",
    "## add these two numbers together and round to 2 decimal places\n",
    "number_1 = 42.569783\n",
    "number_2 = 101.668342"
   ]
  },
  {
   "cell_type": "code",
   "execution_count": null,
   "id": "e812a496",
   "metadata": {},
   "outputs": [],
   "source": []
  }
 ],
 "metadata": {
  "kernelspec": {
   "display_name": "Python 3 (ipykernel)",
   "language": "python",
   "name": "python3"
  },
  "language_info": {
   "codemirror_mode": {
    "name": "ipython",
    "version": 3
   },
   "file_extension": ".py",
   "mimetype": "text/x-python",
   "name": "python",
   "nbconvert_exporter": "python",
   "pygments_lexer": "ipython3",
   "version": "3.9.7"
  }
 },
 "nbformat": 4,
 "nbformat_minor": 5
}
